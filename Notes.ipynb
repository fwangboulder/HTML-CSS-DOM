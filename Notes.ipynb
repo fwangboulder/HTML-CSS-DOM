{
 "cells": [
  {
   "cell_type": "markdown",
   "metadata": {},
   "source": [
    "HTML-CSS-DOM\n",
    "HTML - HyperText Markup Language - the standard markup language used to create web pages.\n",
    "\n",
    "CSS - Cascading Style Sheets - style sheet language used for describing the look and formatting of a document written in a markup language.\n",
    "\n",
    "DOM - Document Object Model - a cross-platform and language-independent convention for representing and interacting with objects in HTML (and other markup languages). The nodes of every document are organized in a tree structure, called the DOM tree."
   ]
  },
  {
   "cell_type": "markdown",
   "metadata": {
    "collapsed": true
   },
   "source": [
    "https://developer.mozilla.org/en-US/docs/Web/CSS/Reference"
   ]
  },
  {
   "cell_type": "markdown",
   "metadata": {},
   "source": [
    "Verifying HTML and CSS\n",
    "To verify HTML: http://validator.w3.org/#validate_by_input\n",
    "To verify CSS: http://jigsaw.w3.org/css-validator/#validate_by_input"
   ]
  },
  {
   "cell_type": "markdown",
   "metadata": {},
   "source": [
    "In the meantime, placekitten.com and placehold.it still work!"
   ]
  },
  {
   "cell_type": "markdown",
   "metadata": {},
   "source": [
    "https://fonts.google.com\n",
    "Your personal meeting url: \n",
    "https://zoom.us/j/5751120014\n",
    "\n",
    "When creating your html and css files, be sure to follow the\n",
    "http://udacity.github.io/frontend-nanodegree-styleguide/"
   ]
  },
  {
   "cell_type": "markdown",
   "metadata": {},
   "source": [
    "Mobile Tools For IOS\n",
    "iOS WebKit Debug Proxy: https://github.com/google/ios-webkit-debug-proxy\n",
    "\n",
    "Please note that on the forums, there is a discussion continuing about ios-webkit-debug-proxy. Depending on your version of canary, if you're using it, it might take a lot of time and some students suggest trying Safari Dev Tools and point to links like this:\n",
    "\n",
    "https://www.smashingmagazine.com/2014/09/testing-mobile-emulators-simulators-remote-debugging/2/\n",
    "\n",
    "Remember you can run in simulator mode in Chrome Dev Tools.\n"
   ]
  }
 ],
 "metadata": {
  "anaconda-cloud": {},
  "kernelspec": {
   "display_name": "Python [Root]",
   "language": "python",
   "name": "Python [Root]"
  },
  "language_info": {
   "codemirror_mode": {
    "name": "ipython",
    "version": 2
   },
   "file_extension": ".py",
   "mimetype": "text/x-python",
   "name": "python",
   "nbconvert_exporter": "python",
   "pygments_lexer": "ipython2",
   "version": "2.7.12"
  }
 },
 "nbformat": 4,
 "nbformat_minor": 0
}
